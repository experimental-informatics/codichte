{
 "cells": [
  {
   "cell_type": "markdown",
   "metadata": {},
   "source": [
    "# Sequencing\n",
    "\n",
    "This is a rough and brief introduction into sequencing text with the high-level programming language Python.<br>\n",
    "\n",
    "We will have a look at:<br>\n",
    "\n",
    "- variables\n",
    "- strings\n",
    "- data types\n",
    "- working with strings\n",
    "- lists \n",
    "- loop\n",
    "\n",
    "\n",
    "If you want to dive more into detail, we recommend to have a look at the following notebooks [Expressions and Strings](https://github.com/aparrish/rwet/blob/master/expressions-and-strings.ipynb) and [Understanding lists and manipulating lines](https://github.com/aparrish/rwet/blob/master/understanding-lists-manipulating-lines.ipynb).\n",
    "\n",
    "## Programming = rule-based manipulation of symbols\n",
    "\n",
    "Which symbols do we have (in a high-level programming language)? **Numbers** and **characters (strings)**.\n",
    "\n",
    "Programming means to perform actions **on** and **with** this symbols.\n",
    "\n",
    "*on* = symbols are **operands**<br>\n",
    "*with* = symbols are **operators**\n",
    "\n",
    "That's what's called **executable text**: the code contains instructions, which are performed when we execute it. A lot of the instructions (operations) are performed on the code itself and define/ alter the program flow.\n",
    "\n",
    "\n",
    "In the following examples we have two operands (`5` and `7`) and perform operations with the symbols `+`, `-`, `/` and `*`, which are the operators."
   ]
  },
  {
   "cell_type": "code",
   "execution_count": 1,
   "metadata": {},
   "outputs": [
    {
     "data": {
      "text/plain": [
       "12"
      ]
     },
     "execution_count": 1,
     "metadata": {},
     "output_type": "execute_result"
    }
   ],
   "source": [
    "5 + 7"
   ]
  },
  {
   "cell_type": "code",
   "execution_count": 2,
   "metadata": {},
   "outputs": [
    {
     "data": {
      "text/plain": [
       "-2"
      ]
     },
     "execution_count": 2,
     "metadata": {},
     "output_type": "execute_result"
    }
   ],
   "source": [
    "5 - 7"
   ]
  },
  {
   "cell_type": "code",
   "execution_count": 3,
   "metadata": {},
   "outputs": [
    {
     "data": {
      "text/plain": [
       "0.7142857142857143"
      ]
     },
     "execution_count": 3,
     "metadata": {},
     "output_type": "execute_result"
    }
   ],
   "source": [
    "5 / 7"
   ]
  },
  {
   "cell_type": "code",
   "execution_count": 4,
   "metadata": {},
   "outputs": [
    {
     "data": {
      "text/plain": [
       "35"
      ]
     },
     "execution_count": 4,
     "metadata": {},
     "output_type": "execute_result"
    }
   ],
   "source": [
    "5 * 7"
   ]
  },
  {
   "cell_type": "code",
   "execution_count": 5,
   "metadata": {},
   "outputs": [
    {
     "data": {
      "text/plain": [
       "-5.5"
      ]
     },
     "execution_count": 5,
     "metadata": {},
     "output_type": "execute_result"
    }
   ],
   "source": [
    "# Multiple arithmetic expressions are processed in the same order as we know it from school.\n",
    "5 + 7 - 5 / 2 * 7"
   ]
  },
  {
   "cell_type": "code",
   "execution_count": 6,
   "metadata": {},
   "outputs": [
    {
     "data": {
      "text/plain": [
       "24.5"
      ]
     },
     "execution_count": 6,
     "metadata": {},
     "output_type": "execute_result"
    }
   ],
   "source": [
    "(5 + 7 - 5) / 2 * 7"
   ]
  },
  {
   "cell_type": "markdown",
   "metadata": {},
   "source": [
    "## Variables\n",
    "\n",
    "Instead of using this operands directly, more often we store them in **variables**. We use characters (strings) to give names to these variables:"
   ]
  },
  {
   "cell_type": "code",
   "execution_count": 7,
   "metadata": {},
   "outputs": [],
   "source": [
    "a = 5\n",
    "b = 7\n",
    "# In Python we can declare multiple variables in one line like:\n",
    "a, b = 5, 7"
   ]
  },
  {
   "cell_type": "markdown",
   "metadata": {},
   "source": [
    "This names (here `a` and `b`) are then used as identifiers/ addresses, through which we can access this variables:"
   ]
  },
  {
   "cell_type": "code",
   "execution_count": 8,
   "metadata": {},
   "outputs": [
    {
     "data": {
      "text/plain": [
       "12"
      ]
     },
     "execution_count": 8,
     "metadata": {},
     "output_type": "execute_result"
    }
   ],
   "source": [
    "a + b"
   ]
  },
  {
   "cell_type": "markdown",
   "metadata": {},
   "source": [
    "Of course we can store the result in another variable:"
   ]
  },
  {
   "cell_type": "code",
   "execution_count": 9,
   "metadata": {},
   "outputs": [
    {
     "data": {
      "text/plain": [
       "12"
      ]
     },
     "execution_count": 9,
     "metadata": {},
     "output_type": "execute_result"
    }
   ],
   "source": [
    "c = a + b\n",
    "c"
   ]
  },
  {
   "cell_type": "markdown",
   "metadata": {},
   "source": [
    "We can override variables:"
   ]
  },
  {
   "cell_type": "code",
   "execution_count": 10,
   "metadata": {},
   "outputs": [
    {
     "data": {
      "text/plain": [
       "7"
      ]
     },
     "execution_count": 10,
     "metadata": {},
     "output_type": "execute_result"
    }
   ],
   "source": [
    "a = b\n",
    "a"
   ]
  },
  {
   "cell_type": "markdown",
   "metadata": {},
   "source": [
    "Or we can use variables to perform actions on themselves:"
   ]
  },
  {
   "cell_type": "code",
   "execution_count": 11,
   "metadata": {},
   "outputs": [
    {
     "data": {
      "text/plain": [
       "14"
      ]
     },
     "execution_count": 11,
     "metadata": {},
     "output_type": "execute_result"
    }
   ],
   "source": [
    "a = a*2\n",
    "# A shortcut would be:\n",
    "# a *= 2\n",
    "a"
   ]
  },
  {
   "cell_type": "markdown",
   "metadata": {},
   "source": [
    "## Strings\n",
    "\n",
    "So far we have worked with numbers. Let's continue with words. Words (or single characters) are called **strings**. We define strings with apostrophes. You can use `'` or `\"` or `'''`. We put our string in a pair of (similar) apostrophes:"
   ]
  },
  {
   "cell_type": "code",
   "execution_count": 12,
   "metadata": {},
   "outputs": [
    {
     "data": {
      "text/plain": [
       "'57'"
      ]
     },
     "execution_count": 12,
     "metadata": {},
     "output_type": "execute_result"
    }
   ],
   "source": [
    "a = '5'\n",
    "b = \"7\"\n",
    "a + b"
   ]
  },
  {
   "cell_type": "markdown",
   "metadata": {},
   "source": [
    "As you can see operations on strings are different then operations on numbers.<br>\n",
    "We can imagine the string `a` as a token (gaming piece) of scrabble with a 5 on it, `b` as another piece with a 7 on it. The `+` means that we put the latter right after the previous. They are kind of glued together. Another example:"
   ]
  },
  {
   "cell_type": "code",
   "execution_count": 13,
   "metadata": {},
   "outputs": [
    {
     "data": {
      "text/plain": [
       "'fiveseven'"
      ]
     },
     "execution_count": 13,
     "metadata": {},
     "output_type": "execute_result"
    }
   ],
   "source": [
    "'five' + 'seven'"
   ]
  },
  {
   "cell_type": "markdown",
   "metadata": {},
   "source": [
    "This is called **concatenation** of two strings. We can create a sequence of text through concatenating several strings."
   ]
  },
  {
   "cell_type": "code",
   "execution_count": 14,
   "metadata": {},
   "outputs": [
    {
     "data": {
      "text/plain": [
       "'Rose is a rose'"
      ]
     },
     "execution_count": 14,
     "metadata": {},
     "output_type": "execute_result"
    }
   ],
   "source": [
    "seq1 = 'Rose' # You can use numbers in variable names, but the names have to start with alphabetical characters\n",
    "seq2 = ' ' + 'is' + \" a\" + ''' rose'''\n",
    "seq1 + seq2"
   ]
  },
  {
   "cell_type": "markdown",
   "metadata": {},
   "source": [
    "We can't subtract or divide a string, but we can multiply it:"
   ]
  },
  {
   "cell_type": "code",
   "execution_count": 15,
   "metadata": {},
   "outputs": [
    {
     "data": {
      "text/plain": [
       "'Rose is a rose is a rose'"
      ]
     },
     "execution_count": 15,
     "metadata": {},
     "output_type": "execute_result"
    }
   ],
   "source": [
    "sequence = seq1 + 2 * seq2\n",
    "sequence"
   ]
  },
  {
   "cell_type": "markdown",
   "metadata": {},
   "source": [
    "## Data types\n",
    "\n",
    "We have worked with numbers and strings so far. These are different **types** of data.<br>\n",
    "If we are unsure what kind of data is stored in our variable, we can ask for it with a **function** called `type()`.<br><br>\n",
    "We will not go into detail on what functions are at the moment. For now it's just important to know that you can recognize a function through its `()` (except you write \"()\"inside a string) and that a function processes data.<br><br>\n",
    "A lot of the common functions require the data they should process as input. This means you have to insert the data as an **argument** into the function. This is done inside the `()`.<br><br>\n",
    "We have a variable called `a` and insert this variable into the function `type()`. This way we will receive the data type of a."
   ]
  },
  {
   "cell_type": "code",
   "execution_count": 16,
   "metadata": {},
   "outputs": [
    {
     "data": {
      "text/plain": [
       "str"
      ]
     },
     "execution_count": 16,
     "metadata": {},
     "output_type": "execute_result"
    }
   ],
   "source": [
    "type(a)"
   ]
  },
  {
   "cell_type": "markdown",
   "metadata": {},
   "source": [
    "The output `str` means string.<br><br>\n",
    "In Python the data type of a variable depends on the data that is stored behind it.\n",
    "If we change the data, the data type changes as well if necessary. We will look at this with another function, called `print()`. This function will print/ output everything that you put into the brackets."
   ]
  },
  {
   "cell_type": "code",
   "execution_count": 17,
   "metadata": {},
   "outputs": [
    {
     "name": "stdout",
     "output_type": "stream",
     "text": [
      "Rose is a rose is a rose\n"
     ]
    }
   ],
   "source": [
    "print(sequence)"
   ]
  },
  {
   "cell_type": "code",
   "execution_count": 18,
   "metadata": {},
   "outputs": [
    {
     "name": "stdout",
     "output_type": "stream",
     "text": [
      "5\n",
      "data type of a:  <class 'str'>\n"
     ]
    }
   ],
   "source": [
    "print(a)\n",
    "print('data type of a: ', type(a))"
   ]
  },
  {
   "cell_type": "markdown",
   "metadata": {},
   "source": [
    "Although the output (5) looks like a number, it is in fact a string."
   ]
  },
  {
   "cell_type": "code",
   "execution_count": 19,
   "metadata": {},
   "outputs": [
    {
     "ename": "TypeError",
     "evalue": "can't multiply sequence by non-int of type 'str'",
     "output_type": "error",
     "traceback": [
      "\u001b[0;31m---------------------------------------------------------------------------\u001b[0m",
      "\u001b[0;31mTypeError\u001b[0m                                 Traceback (most recent call last)",
      "\u001b[0;32m<ipython-input-19-df6efae4bbec>\u001b[0m in \u001b[0;36m<module>\u001b[0;34m\u001b[0m\n\u001b[0;32m----> 1\u001b[0;31m \u001b[0mprint\u001b[0m\u001b[0;34m(\u001b[0m\u001b[0mseq1\u001b[0m \u001b[0;34m+\u001b[0m \u001b[0ma\u001b[0m \u001b[0;34m*\u001b[0m \u001b[0mseq2\u001b[0m\u001b[0;34m)\u001b[0m\u001b[0;34m\u001b[0m\u001b[0;34m\u001b[0m\u001b[0m\n\u001b[0m",
      "\u001b[0;31mTypeError\u001b[0m: can't multiply sequence by non-int of type 'str'"
     ]
    }
   ],
   "source": [
    "print(seq1 + a * seq2)"
   ]
  },
  {
   "cell_type": "markdown",
   "metadata": {},
   "source": [
    "Next we will convert it into a number (into an **integer**) with the function `int()`:"
   ]
  },
  {
   "cell_type": "code",
   "execution_count": 20,
   "metadata": {},
   "outputs": [
    {
     "name": "stdout",
     "output_type": "stream",
     "text": [
      "5\n",
      "data type of a:  <class 'int'>\n",
      "Rose is a rose is a rose is a rose is a rose is a rose\n"
     ]
    }
   ],
   "source": [
    "# Converting the variable a from string to int\n",
    "a = int(a)\n",
    "print(a)\n",
    "print('data type of a: ', type(a))\n",
    "print(seq1 + a * seq2)"
   ]
  },
  {
   "cell_type": "markdown",
   "metadata": {},
   "source": [
    "Another data type for numbers is **float**. This means we do not have an integer value:"
   ]
  },
  {
   "cell_type": "code",
   "execution_count": 21,
   "metadata": {},
   "outputs": [
    {
     "name": "stdout",
     "output_type": "stream",
     "text": [
      "0.7142857142857143\n",
      "<class 'float'>\n"
     ]
    },
    {
     "ename": "TypeError",
     "evalue": "can't multiply sequence by non-int of type 'float'",
     "output_type": "error",
     "traceback": [
      "\u001b[0;31m---------------------------------------------------------------------------\u001b[0m",
      "\u001b[0;31mTypeError\u001b[0m                                 Traceback (most recent call last)",
      "\u001b[0;32m<ipython-input-21-a7dea0aec895>\u001b[0m in \u001b[0;36m<module>\u001b[0;34m\u001b[0m\n\u001b[1;32m      3\u001b[0m \u001b[0mprint\u001b[0m\u001b[0;34m(\u001b[0m\u001b[0ma\u001b[0m\u001b[0;34m)\u001b[0m\u001b[0;34m\u001b[0m\u001b[0;34m\u001b[0m\u001b[0m\n\u001b[1;32m      4\u001b[0m \u001b[0mprint\u001b[0m\u001b[0;34m(\u001b[0m\u001b[0mtype\u001b[0m\u001b[0;34m(\u001b[0m\u001b[0ma\u001b[0m\u001b[0;34m)\u001b[0m\u001b[0;34m)\u001b[0m\u001b[0;34m\u001b[0m\u001b[0;34m\u001b[0m\u001b[0m\n\u001b[0;32m----> 5\u001b[0;31m \u001b[0mprint\u001b[0m\u001b[0;34m(\u001b[0m\u001b[0mseq1\u001b[0m \u001b[0;34m+\u001b[0m \u001b[0ma\u001b[0m \u001b[0;34m*\u001b[0m \u001b[0mseq2\u001b[0m\u001b[0;34m)\u001b[0m\u001b[0;34m\u001b[0m\u001b[0;34m\u001b[0m\u001b[0m\n\u001b[0m",
      "\u001b[0;31mTypeError\u001b[0m: can't multiply sequence by non-int of type 'float'"
     ]
    }
   ],
   "source": [
    "a, b = 5, 7\n",
    "a /= b\n",
    "print(a)\n",
    "print(type(a))\n",
    "print(seq1 + a * seq2)"
   ]
  },
  {
   "cell_type": "markdown",
   "metadata": {},
   "source": [
    "## Working with strings"
   ]
  },
  {
   "cell_type": "code",
   "execution_count": 23,
   "metadata": {},
   "outputs": [
    {
     "data": {
      "text/plain": [
       "'Rose is a rose is a rose'"
      ]
     },
     "execution_count": 23,
     "metadata": {},
     "output_type": "execute_result"
    }
   ],
   "source": [
    "sequence"
   ]
  },
  {
   "cell_type": "markdown",
   "metadata": {},
   "source": [
    "An object of type string can perform operations on itself through built-in functions. We'll have a look at several of these functions."
   ]
  },
  {
   "cell_type": "code",
   "execution_count": 24,
   "metadata": {},
   "outputs": [
    {
     "data": {
      "text/plain": [
       "'Rose was a rose was a rose'"
      ]
     },
     "execution_count": 24,
     "metadata": {},
     "output_type": "execute_result"
    }
   ],
   "source": [
    "sequence.replace('is', 'was')"
   ]
  },
  {
   "cell_type": "code",
   "execution_count": 25,
   "metadata": {},
   "outputs": [
    {
     "data": {
      "text/plain": [
       "'rose is a rose is a rose'"
      ]
     },
     "execution_count": 25,
     "metadata": {},
     "output_type": "execute_result"
    }
   ],
   "source": [
    "sequence.lower()"
   ]
  },
  {
   "cell_type": "code",
   "execution_count": 26,
   "metadata": {},
   "outputs": [
    {
     "data": {
      "text/plain": [
       "'ROSE IS A ROSE IS A ROSE'"
      ]
     },
     "execution_count": 26,
     "metadata": {},
     "output_type": "execute_result"
    }
   ],
   "source": [
    "sequence.upper()"
   ]
  },
  {
   "cell_type": "code",
   "execution_count": 27,
   "metadata": {},
   "outputs": [
    {
     "data": {
      "text/plain": [
       "'Rose is a rose is a rose'"
      ]
     },
     "execution_count": 27,
     "metadata": {},
     "output_type": "execute_result"
    }
   ],
   "source": [
    "sequence"
   ]
  },
  {
   "cell_type": "markdown",
   "metadata": {},
   "source": [
    "As you can see these functions do not change the value of the string. If you want to change it, you have to override the variable:"
   ]
  },
  {
   "cell_type": "code",
   "execution_count": 28,
   "metadata": {},
   "outputs": [
    {
     "name": "stdout",
     "output_type": "stream",
     "text": [
      "Rose was a rose was a rose\n",
      "Rose is a rose is a rose\n"
     ]
    }
   ],
   "source": [
    "sequence = sequence.replace('is', 'was')\n",
    "print(sequence)\n",
    "# override it again\n",
    "sequence = sequence.replace('was', 'is')\n",
    "print(sequence)"
   ]
  },
  {
   "cell_type": "markdown",
   "metadata": {},
   "source": [
    "## Lists\n",
    "We said that all the symbols of a string are kind of glued together. We can split them (think of tokens of scrabble), but then this object is not a string anymore. It is a **list**."
   ]
  },
  {
   "cell_type": "code",
   "execution_count": 29,
   "metadata": {},
   "outputs": [
    {
     "name": "stdout",
     "output_type": "stream",
     "text": [
      "['Rose', 'is', 'a', 'rose', 'is', 'a', 'rose']\n"
     ]
    }
   ],
   "source": [
    "sequence_list = sequence.split(' ')\n",
    "print(sequence_list)"
   ]
  },
  {
   "cell_type": "markdown",
   "metadata": {},
   "source": [
    "Now we can deal with the singular tokens. For example print just the first 4 **elements**."
   ]
  },
  {
   "cell_type": "code",
   "execution_count": 30,
   "metadata": {},
   "outputs": [
    {
     "name": "stdout",
     "output_type": "stream",
     "text": [
      "['Rose', 'is', 'a', 'rose']\n"
     ]
    }
   ],
   "source": [
    "print(sequence_list[:4])"
   ]
  },
  {
   "cell_type": "markdown",
   "metadata": {},
   "source": [
    "Again, this does not change the values of our list. We still have all elements in it:"
   ]
  },
  {
   "cell_type": "code",
   "execution_count": 31,
   "metadata": {},
   "outputs": [
    {
     "name": "stdout",
     "output_type": "stream",
     "text": [
      "['Rose', 'is', 'a', 'rose', 'is', 'a', 'rose']\n"
     ]
    }
   ],
   "source": [
    "print(sequence_list)"
   ]
  },
  {
   "cell_type": "markdown",
   "metadata": {},
   "source": [
    "#### **Accessing elements of a list**\n",
    "As you can see we can access single elements of our list. We can do this with the index of a element inside square brackets `[]`. Caution: the first index (of \"Rose\" in this example) is 0. In programming language counting starts from 0. This means that the last element is n-1, if n is the length of the list."
   ]
  },
  {
   "cell_type": "code",
   "execution_count": 32,
   "metadata": {},
   "outputs": [
    {
     "data": {
      "text/plain": [
       "'Rose'"
      ]
     },
     "execution_count": 32,
     "metadata": {},
     "output_type": "execute_result"
    }
   ],
   "source": [
    "sequence_list[0]"
   ]
  },
  {
   "cell_type": "code",
   "execution_count": 33,
   "metadata": {},
   "outputs": [
    {
     "data": {
      "text/plain": [
       "'is'"
      ]
     },
     "execution_count": 33,
     "metadata": {},
     "output_type": "execute_result"
    }
   ],
   "source": [
    "sequence_list[1]"
   ]
  },
  {
   "cell_type": "markdown",
   "metadata": {},
   "source": [
    "We can write expressions or functions inside the brackets."
   ]
  },
  {
   "cell_type": "code",
   "execution_count": 34,
   "metadata": {},
   "outputs": [
    {
     "data": {
      "text/plain": [
       "'a'"
      ]
     },
     "execution_count": 34,
     "metadata": {},
     "output_type": "execute_result"
    }
   ],
   "source": [
    "sequence_list[4-2]"
   ]
  },
  {
   "cell_type": "markdown",
   "metadata": {},
   "source": [
    "With negative numbers we can access the value counting from the end:"
   ]
  },
  {
   "cell_type": "code",
   "execution_count": 35,
   "metadata": {},
   "outputs": [
    {
     "data": {
      "text/plain": [
       "'rose'"
      ]
     },
     "execution_count": 35,
     "metadata": {},
     "output_type": "execute_result"
    }
   ],
   "source": [
    "sequence_list[-4]"
   ]
  },
  {
   "cell_type": "markdown",
   "metadata": {},
   "source": [
    "If we try to access a value that is outside of the boundaries of our list, we will receive an error."
   ]
  },
  {
   "cell_type": "code",
   "execution_count": 36,
   "metadata": {},
   "outputs": [
    {
     "ename": "IndexError",
     "evalue": "list index out of range",
     "output_type": "error",
     "traceback": [
      "\u001b[0;31m---------------------------------------------------------------------------\u001b[0m",
      "\u001b[0;31mIndexError\u001b[0m                                Traceback (most recent call last)",
      "\u001b[0;32m<ipython-input-36-d9b151bb6527>\u001b[0m in \u001b[0;36m<module>\u001b[0;34m\u001b[0m\n\u001b[0;32m----> 1\u001b[0;31m \u001b[0msequence_list\u001b[0m\u001b[0;34m[\u001b[0m\u001b[0;36m24\u001b[0m\u001b[0;34m]\u001b[0m\u001b[0;34m\u001b[0m\u001b[0;34m\u001b[0m\u001b[0m\n\u001b[0m",
      "\u001b[0;31mIndexError\u001b[0m: list index out of range"
     ]
    }
   ],
   "source": [
    "sequence_list[24]"
   ]
  },
  {
   "cell_type": "markdown",
   "metadata": {},
   "source": [
    "But there are functions which alter the objects on which they are performed. For example:"
   ]
  },
  {
   "cell_type": "code",
   "execution_count": 37,
   "metadata": {},
   "outputs": [
    {
     "name": "stdout",
     "output_type": "stream",
     "text": [
      "['Rose', 'is', 'rose', 'a', 'is', 'rose', 'a']\n"
     ]
    }
   ],
   "source": [
    "import random # import the random library\n",
    "random.shuffle(sequence_list)\n",
    "print(sequence_list)"
   ]
  },
  {
   "cell_type": "code",
   "execution_count": 38,
   "metadata": {},
   "outputs": [
    {
     "name": "stdout",
     "output_type": "stream",
     "text": [
      "['Rose', 'is', 'a', 'rose', 'is', 'a', 'rose']\n"
     ]
    }
   ],
   "source": [
    "# If we want the original order back, we have to override our list with the original values, \n",
    "# which are still stored in the string.\n",
    "sequence_list = sequence.split(' ')\n",
    "print(sequence_list)"
   ]
  },
  {
   "cell_type": "markdown",
   "metadata": {},
   "source": [
    "We can use different symbols as **separators** to split our sequence. We will split it at rose. First we will lower the whole string, so that the first `rose` is also recognized.<br>\n",
    "We can chain multiple operations (like `.lower()` and `.split()` together:"
   ]
  },
  {
   "cell_type": "code",
   "execution_count": 39,
   "metadata": {},
   "outputs": [
    {
     "name": "stdout",
     "output_type": "stream",
     "text": [
      "['rose', 'rose', 'rose']\n"
     ]
    }
   ],
   "source": [
    "sequence_list = sequence.lower().split(' is a ')\n",
    "print(sequence_list)"
   ]
  },
  {
   "cell_type": "markdown",
   "metadata": {},
   "source": [
    "If we need our list to be an array, we can transform it. One option to do that is the built-in function `().join`."
   ]
  },
  {
   "cell_type": "code",
   "execution_count": 40,
   "metadata": {},
   "outputs": [
    {
     "name": "stdout",
     "output_type": "stream",
     "text": [
      "['Rose', 'is', 'a', 'rose', 'is', 'a', 'rose']\n",
      "Rose is a rose is a rose\n"
     ]
    }
   ],
   "source": [
    "sequence_list = sequence.split(' ')\n",
    "print(sequence_list)\n",
    "sequence_str = (' ').join(sequence_list)\n",
    "print(sequence_str)"
   ]
  },
  {
   "cell_type": "markdown",
   "metadata": {},
   "source": [
    "#### **Shuffle and sort**\n",
    "For the next examples we will use a longer text and perform some more operations on lists."
   ]
  },
  {
   "cell_type": "code",
   "execution_count": 41,
   "metadata": {},
   "outputs": [
    {
     "name": "stdout",
     "output_type": "stream",
     "text": [
      "\n",
      "He Hazardous of we strong\n",
      "follow bacteria walks\n",
      "by town guy place\n",
      "\n"
     ]
    }
   ],
   "source": [
    "text = '''\n",
    "He Hazardous of we strong\n",
    "follow bacteria walks\n",
    "by town guy place\n",
    "'''\n",
    "print(text)"
   ]
  },
  {
   "cell_type": "markdown",
   "metadata": {},
   "source": [
    "Shuffle:"
   ]
  },
  {
   "cell_type": "code",
   "execution_count": 42,
   "metadata": {},
   "outputs": [
    {
     "name": "stdout",
     "output_type": "stream",
     "text": [
      "town walks\n",
      "by Hazardous guy of place\n",
      " bacteria \n",
      "He we strong\n",
      "follow\n"
     ]
    }
   ],
   "source": [
    "# Split string into list.\n",
    "text_list = text.split(' ')\n",
    "# Shuffle list.\n",
    "random.shuffle(text_list)\n",
    "# Join list to string.\n",
    "text_str = ' '.join(text_list)\n",
    "print(text_str)"
   ]
  },
  {
   "cell_type": "markdown",
   "metadata": {},
   "source": [
    "Sort:"
   ]
  },
  {
   "cell_type": "code",
   "execution_count": 43,
   "metadata": {},
   "outputs": [
    {
     "name": "stdout",
     "output_type": "stream",
     "text": [
      "\n",
      "He Hazardous bacteria guy of place\n",
      " strong\n",
      "follow town walks\n",
      "by we\n"
     ]
    }
   ],
   "source": [
    "text_list = text.split(' ')\n",
    "# Sort list.\n",
    "text_list.sort()\n",
    "# Join list to string.\n",
    "text_str = ' '.join(text_list)\n",
    "print(text_str)"
   ]
  },
  {
   "cell_type": "markdown",
   "metadata": {},
   "source": [
    "Maybe you've expected a different order. We can have a look at our sorted list to see why we got this order:"
   ]
  },
  {
   "cell_type": "code",
   "execution_count": 44,
   "metadata": {},
   "outputs": [
    {
     "data": {
      "text/plain": [
       "['\\nHe',\n",
       " 'Hazardous',\n",
       " 'bacteria',\n",
       " 'guy',\n",
       " 'of',\n",
       " 'place\\n',\n",
       " 'strong\\nfollow',\n",
       " 'town',\n",
       " 'walks\\nby',\n",
       " 'we']"
      ]
     },
     "execution_count": 44,
     "metadata": {},
     "output_type": "execute_result"
    }
   ],
   "source": [
    "text_list"
   ]
  },
  {
   "cell_type": "markdown",
   "metadata": {},
   "source": [
    "We can change our list in order to get a different order:"
   ]
  },
  {
   "cell_type": "code",
   "execution_count": 45,
   "metadata": {},
   "outputs": [
    {
     "name": "stdout",
     "output_type": "stream",
     "text": [
      "  Hazardous He bacteria by follow guy of place strong town walks we\n"
     ]
    }
   ],
   "source": [
    "# As you know we can chain multiple expressions.\n",
    "text_list = text.replace('\\n', ' ').split(' ')\n",
    "text_list.sort()\n",
    "print(' '.join(text_list))"
   ]
  },
  {
   "cell_type": "code",
   "execution_count": 46,
   "metadata": {},
   "outputs": [
    {
     "name": "stdout",
     "output_type": "stream",
     "text": [
      "  bacteria by follow guy hazardous he of place strong town walks we\n"
     ]
    }
   ],
   "source": [
    "text_list = text.replace('\\n', ' ').lower().split(' ')\n",
    "text_list.sort()\n",
    "print(' '.join(text_list))"
   ]
  },
  {
   "cell_type": "markdown",
   "metadata": {},
   "source": [
    "#### **Length**\n",
    "\n",
    "Next we will sort our text according to the length of its words. We can retrieve the length of values with the function len()."
   ]
  },
  {
   "cell_type": "code",
   "execution_count": 47,
   "metadata": {},
   "outputs": [
    {
     "name": "stdout",
     "output_type": "stream",
     "text": [
      "Length of text: 67 characters.\n",
      "Length of text_list: 14 elements.\n"
     ]
    }
   ],
   "source": [
    "print('Length of text:', len(text), 'characters.')\n",
    "print('Length of text_list:', len(text_list), 'elements.')"
   ]
  },
  {
   "cell_type": "markdown",
   "metadata": {},
   "source": [
    "We can use this function as a key (argument) for the sort() algorithm."
   ]
  },
  {
   "cell_type": "code",
   "execution_count": 48,
   "metadata": {},
   "outputs": [
    {
     "name": "stdout",
     "output_type": "stream",
     "text": [
      "of we \n",
      "He guy town place\n",
      " bacteria walks\n",
      "by Hazardous strong\n",
      "follow\n"
     ]
    }
   ],
   "source": [
    "text_list = text.split(' ')\n",
    "text_list.sort(key = len)\n",
    "print(' '.join(text_list))"
   ]
  },
  {
   "cell_type": "markdown",
   "metadata": {},
   "source": [
    "Looks strange again, the explanation for the result is below:"
   ]
  },
  {
   "cell_type": "code",
   "execution_count": 49,
   "metadata": {},
   "outputs": [
    {
     "data": {
      "text/plain": [
       "['of',\n",
       " 'we',\n",
       " '\\nHe',\n",
       " 'guy',\n",
       " 'town',\n",
       " 'place\\n',\n",
       " 'bacteria',\n",
       " 'walks\\nby',\n",
       " 'Hazardous',\n",
       " 'strong\\nfollow']"
      ]
     },
     "execution_count": 49,
     "metadata": {},
     "output_type": "execute_result"
    }
   ],
   "source": [
    "text_list"
   ]
  },
  {
   "cell_type": "markdown",
   "metadata": {},
   "source": [
    "Another example. Now we tokenize on the level of single characters."
   ]
  },
  {
   "cell_type": "code",
   "execution_count": 50,
   "metadata": {},
   "outputs": [
    {
     "name": "stdout",
     "output_type": "stream",
     "text": [
      "\n",
      " \n",
      " \n",
      " \n",
      "                   H H a a a a a a b b c c d e e e e f f g g i k l l l l n n o o o o o o p r r r s s s t t t u u w w w w y y z\n"
     ]
    }
   ],
   "source": [
    "text_list = [token for token in text]\n",
    "text_list.sort()\n",
    "print(' '.join(text_list))"
   ]
  },
  {
   "cell_type": "code",
   "execution_count": 51,
   "metadata": {},
   "outputs": [
    {
     "data": {
      "text/plain": [
       "['\\n',\n",
       " '\\n',\n",
       " '\\n',\n",
       " '\\n',\n",
       " ' ',\n",
       " ' ',\n",
       " ' ',\n",
       " ' ',\n",
       " ' ',\n",
       " ' ',\n",
       " ' ',\n",
       " ' ',\n",
       " ' ',\n",
       " 'H',\n",
       " 'H',\n",
       " 'a',\n",
       " 'a',\n",
       " 'a',\n",
       " 'a',\n",
       " 'a',\n",
       " 'a',\n",
       " 'b',\n",
       " 'b',\n",
       " 'c',\n",
       " 'c',\n",
       " 'd',\n",
       " 'e',\n",
       " 'e',\n",
       " 'e',\n",
       " 'e',\n",
       " 'f',\n",
       " 'f',\n",
       " 'g',\n",
       " 'g',\n",
       " 'i',\n",
       " 'k',\n",
       " 'l',\n",
       " 'l',\n",
       " 'l',\n",
       " 'l',\n",
       " 'n',\n",
       " 'n',\n",
       " 'o',\n",
       " 'o',\n",
       " 'o',\n",
       " 'o',\n",
       " 'o',\n",
       " 'o',\n",
       " 'p',\n",
       " 'r',\n",
       " 'r',\n",
       " 'r',\n",
       " 's',\n",
       " 's',\n",
       " 's',\n",
       " 't',\n",
       " 't',\n",
       " 't',\n",
       " 'u',\n",
       " 'u',\n",
       " 'w',\n",
       " 'w',\n",
       " 'w',\n",
       " 'w',\n",
       " 'y',\n",
       " 'y',\n",
       " 'z']"
      ]
     },
     "execution_count": 51,
     "metadata": {},
     "output_type": "execute_result"
    }
   ],
   "source": [
    "# Let's have a look at the inside of our list:\n",
    "text_list"
   ]
  },
  {
   "cell_type": "markdown",
   "metadata": {},
   "source": [
    "We can create a vocabulary by reducing our list to one appearance per element. The easiest way is to use the function set()."
   ]
  },
  {
   "cell_type": "code",
   "execution_count": 52,
   "metadata": {},
   "outputs": [
    {
     "name": "stdout",
     "output_type": "stream",
     "text": [
      "  o t d b w s p y c z g \n",
      " u l r a H e f i n k\n"
     ]
    }
   ],
   "source": [
    "text_list = set(text_list)\n",
    "print(' '.join(text_list))"
   ]
  },
  {
   "cell_type": "markdown",
   "metadata": {},
   "source": [
    "A sorted version:"
   ]
  },
  {
   "cell_type": "code",
   "execution_count": 53,
   "metadata": {},
   "outputs": [
    {
     "name": "stdout",
     "output_type": "stream",
     "text": [
      "\n",
      "   H a b c d e f g i k l n o p r s t u w y z\n"
     ]
    }
   ],
   "source": [
    "# Convert set (another data type) to list:\n",
    "text_list = list(text_list)\n",
    "# Sort list\n",
    "text_list.sort()\n",
    "print(' '.join(text_list))"
   ]
  },
  {
   "cell_type": "markdown",
   "metadata": {},
   "source": [
    "## Loops\n",
    "We can use the length as a parameter to control a loop. \n",
    "\n",
    "### For-loop\n",
    "The `for-loop` below counts (iterates) from 0 to the length of the text_list (remember n-1). For each **iteration** it executes the indented code (in this example a print command)."
   ]
  },
  {
   "cell_type": "code",
   "execution_count": 54,
   "metadata": {},
   "outputs": [
    {
     "name": "stdout",
     "output_type": "stream",
     "text": [
      "0  -  \n",
      "\n",
      "1  -   \n",
      "2  -  H\n",
      "3  -  a\n",
      "4  -  b\n",
      "5  -  c\n",
      "6  -  d\n",
      "7  -  e\n",
      "8  -  f\n",
      "9  -  g\n",
      "10  -  i\n",
      "11  -  k\n",
      "12  -  l\n",
      "13  -  n\n",
      "14  -  o\n",
      "15  -  p\n",
      "16  -  r\n",
      "17  -  s\n",
      "18  -  t\n",
      "19  -  u\n",
      "20  -  w\n",
      "21  -  y\n",
      "22  -  z\n"
     ]
    }
   ],
   "source": [
    "for i in range(len(text_list)):\n",
    "    print(i, ' - ', text_list[i])"
   ]
  },
  {
   "cell_type": "markdown",
   "metadata": {},
   "source": [
    "There are more elegant ways to perform the above. If you don't need the index (called `i` above, you can choose any valid variable name), you can just iterate through the list:"
   ]
  },
  {
   "cell_type": "code",
   "execution_count": 55,
   "metadata": {},
   "outputs": [
    {
     "name": "stdout",
     "output_type": "stream",
     "text": [
      "\n",
      "     H  a  b  c  d  e  f  g  i  k  l  n  o  p  r  s  t  u  w  y  z  "
     ]
    }
   ],
   "source": [
    "for token in text_list:\n",
    "    print(token, ' ', end='')\n",
    "    # if you want to print each character in a separate line, \n",
    "    # remove the \"end=''\" argument."
   ]
  },
  {
   "cell_type": "markdown",
   "metadata": {},
   "source": [
    "If you want to loop through the elements and need an index, you can do it with the function `enumerate()`:"
   ]
  },
  {
   "cell_type": "code",
   "execution_count": 56,
   "metadata": {},
   "outputs": [
    {
     "name": "stdout",
     "output_type": "stream",
     "text": [
      "0 - \n",
      "\n",
      "1 -  \n",
      "2 - H\n",
      "3 - a\n",
      "4 - b\n",
      "5 - c\n",
      "6 - d\n",
      "7 - e\n",
      "8 - f\n",
      "9 - g\n",
      "10 - i\n",
      "11 - k\n",
      "12 - l\n",
      "13 - n\n",
      "14 - o\n",
      "15 - p\n",
      "16 - r\n",
      "17 - s\n",
      "18 - t\n",
      "19 - u\n",
      "20 - w\n",
      "21 - y\n",
      "22 - z\n"
     ]
    }
   ],
   "source": [
    "for index, token in enumerate(text_list):\n",
    "    print(index, '-', token)"
   ]
  },
  {
   "cell_type": "markdown",
   "metadata": {},
   "source": [
    "### While-loop\n",
    "\n",
    "Another control structure next to the for-loop is the while-loop. The while() loop evaluates a **conditional** expression which is written inside the brackets.\n",
    "The loop continues as long as the expression returns True and it stops when the expression returns False.\n",
    "A common practice is to use a while-loop together with a counter. It looks like this:"
   ]
  },
  {
   "cell_type": "code",
   "execution_count": 57,
   "metadata": {},
   "outputs": [
    {
     "name": "stdout",
     "output_type": "stream",
     "text": [
      "\n",
      "\n",
      " \n",
      "H\n",
      "a\n",
      "b\n",
      "c\n",
      "d\n",
      "e\n",
      "f\n",
      "g\n",
      "i\n",
      "k\n",
      "l\n",
      "n\n",
      "o\n",
      "p\n",
      "r\n",
      "s\n",
      "t\n",
      "u\n",
      "w\n",
      "y\n",
      "z\n"
     ]
    }
   ],
   "source": [
    "# Initiate a variable with value 0\n",
    "index = 0\n",
    "# Check each iteration of the loop if the value of counter \n",
    "# is smaller than the length of our list\n",
    "while (index < len(text_list)):\n",
    "    # Perform some action\n",
    "    print(text_list[index])\n",
    "    # Increase the index, otherwise it would run infinitely.\n",
    "    index += 1"
   ]
  },
  {
   "cell_type": "markdown",
   "metadata": {},
   "source": [
    "With a `while-loop` it is very easy to write infinite programs. Below are 3 examples. You have to remove the # to run them. Or just interpret them for yourself without running them.<br><br>\n",
    "In the 1st example we compare to strings. The keyword `is` is a special comparision, because it evaluates if the two objects are the **same**. This means that they occupy the same memory location on your machine. We'll come back to that later.<br><br>\n",
    "The 2nd and 3rd example use the **Boolean** values `True` and `False`. Boolean is another data type."
   ]
  },
  {
   "cell_type": "code",
   "execution_count": 58,
   "metadata": {},
   "outputs": [],
   "source": [
    "# while ('a rose' is 'a rose'):\n",
    "#     print('a rose is ', end='')"
   ]
  },
  {
   "cell_type": "code",
   "execution_count": 59,
   "metadata": {},
   "outputs": [],
   "source": [
    "# while (True is True):\n",
    "#     print('true is ', end='')"
   ]
  },
  {
   "cell_type": "code",
   "execution_count": 60,
   "metadata": {},
   "outputs": [],
   "source": [
    "# while (False is False):\n",
    "#     print('false is', end='')"
   ]
  }
 ],
 "metadata": {
  "kernelspec": {
   "display_name": "Python 3",
   "language": "python",
   "name": "python3"
  },
  "language_info": {
   "codemirror_mode": {
    "name": "ipython",
    "version": 3
   },
   "file_extension": ".py",
   "mimetype": "text/x-python",
   "name": "python",
   "nbconvert_exporter": "python",
   "pygments_lexer": "ipython3",
   "version": "3.7.5"
  }
 },
 "nbformat": 4,
 "nbformat_minor": 4
}
