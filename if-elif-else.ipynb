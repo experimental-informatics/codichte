{
 "cells": [
  {
   "cell_type": "markdown",
   "metadata": {},
   "source": [
    "# if elif else (Decision Making)\n",
    "\n",
    "With `if` and (optional) `elif` and `else` you can specify to execute code based on the boolean (`True` and `False`) of a condition."
   ]
  },
  {
   "cell_type": "code",
   "execution_count": 1,
   "metadata": {},
   "outputs": [
    {
     "name": "stdout",
     "output_type": "stream",
     "text": [
      "code block is executed\n"
     ]
    }
   ],
   "source": [
    "if True:\n",
    "    print('code block is executed')\n",
    "if False:\n",
    "    print('this is not executed')"
   ]
  },
  {
   "cell_type": "markdown",
   "metadata": {},
   "source": [
    "The code being executed is indented. You can write as many lines of code as you like."
   ]
  },
  {
   "cell_type": "code",
   "execution_count": 2,
   "metadata": {},
   "outputs": [
    {
     "name": "stdout",
     "output_type": "stream",
     "text": [
      "line 1\n",
      "line 2\n",
      "A rose is a rose is a rose is a rose\n"
     ]
    }
   ],
   "source": [
    "if True:\n",
    "    print('line 1')\n",
    "    print('line 2')\n",
    "    x = 3* ' is a rose'\n",
    "    print('A rose' + x)"
   ]
  },
  {
   "cell_type": "markdown",
   "metadata": {},
   "source": [
    "Of course it's useless to write booleans as conditions, because they will never change. Instead we want to evaluate if something is `True` or `False`.<br>\n",
    "So far we had examples using only `if`. With `else` we can specifiy a block of code that is executed if the condition is `False`."
   ]
  },
  {
   "cell_type": "code",
   "execution_count": 3,
   "metadata": {},
   "outputs": [
    {
     "name": "stdout",
     "output_type": "stream",
     "text": [
      "A != B\n"
     ]
    }
   ],
   "source": [
    "j, k = 'A', 'B'\n",
    "if j == k:\n",
    "    print(j, '=', k)\n",
    "else:\n",
    "    print(j, '!=', k)"
   ]
  },
  {
   "cell_type": "markdown",
   "metadata": {},
   "source": [
    "We can use `if elif else` if we want to evaluate multiple conditions."
   ]
  },
  {
   "cell_type": "code",
   "execution_count": 4,
   "metadata": {},
   "outputs": [
    {
     "name": "stdout",
     "output_type": "stream",
     "text": [
      "4 < 8\n"
     ]
    }
   ],
   "source": [
    "a, b = 4, 8\n",
    "if a > b:\n",
    "    print(a, '>', b)\n",
    "elif a < b:\n",
    "    print(a, '<', b)\n",
    "else:\n",
    "    print(a, '=', b)"
   ]
  },
  {
   "cell_type": "markdown",
   "metadata": {},
   "source": [
    "## Conditionals and Lists"
   ]
  },
  {
   "cell_type": "code",
   "execution_count": 5,
   "metadata": {},
   "outputs": [],
   "source": [
    "txt = \"»Tender Buttons«, from Gertrude Stein\""
   ]
  },
  {
   "cell_type": "markdown",
   "metadata": {},
   "source": [
    "We can evaluate if a (sub)string is inside a string."
   ]
  },
  {
   "cell_type": "code",
   "execution_count": 6,
   "metadata": {},
   "outputs": [
    {
     "name": "stdout",
     "output_type": "stream",
     "text": [
      "Butt in »Tender Buttons«, from Gertrude Stein\n"
     ]
    }
   ],
   "source": [
    "if 'Butt' in txt:\n",
    "    print('Butt in', txt)"
   ]
  },
  {
   "cell_type": "markdown",
   "metadata": {},
   "source": [
    "We can evaluate if a specific element is inside a list."
   ]
  },
  {
   "cell_type": "code",
   "execution_count": 7,
   "metadata": {},
   "outputs": [
    {
     "name": "stdout",
     "output_type": "stream",
     "text": [
      "True\n"
     ]
    }
   ],
   "source": [
    "l = [4, 0.1, 'else']\n",
    "if 'else' in l:\n",
    "    print('True')"
   ]
  },
  {
   "cell_type": "markdown",
   "metadata": {},
   "source": [
    "We can reduce a list to items matching specific criteria. In the example below we reduce our list to alphabetical characters."
   ]
  },
  {
   "cell_type": "code",
   "execution_count": 8,
   "metadata": {},
   "outputs": [
    {
     "name": "stdout",
     "output_type": "stream",
     "text": [
      "['else']\n"
     ]
    }
   ],
   "source": [
    "l = [x for x in l if str(x).isalpha()]\n",
    "print(l)"
   ]
  },
  {
   "cell_type": "markdown",
   "metadata": {},
   "source": [
    "Remember the function `swapcase()` from the for-loops notebook."
   ]
  },
  {
   "cell_type": "code",
   "execution_count": 9,
   "metadata": {},
   "outputs": [
    {
     "data": {
      "text/plain": [
       "'»tENDER bUTTONS«, FROM gERTRUDE sTEIN'"
      ]
     },
     "execution_count": 9,
     "metadata": {},
     "output_type": "execute_result"
    }
   ],
   "source": [
    "txt.swapcase()"
   ]
  },
  {
   "cell_type": "markdown",
   "metadata": {},
   "source": [
    "We can get the same result with conditionals. Inside a list:"
   ]
  },
  {
   "cell_type": "code",
   "execution_count": 10,
   "metadata": {},
   "outputs": [
    {
     "name": "stdout",
     "output_type": "stream",
     "text": [
      "»tENDER bUTTONS«, FROM gERTRUDE sTEIN\n"
     ]
    }
   ],
   "source": [
    "txt_swapped = [x.lower() if x.isupper() else x.upper() for x in txt]\n",
    "txt_swapped = ''.join(txt_swapped)\n",
    "print(txt_swapped)"
   ]
  },
  {
   "cell_type": "markdown",
   "metadata": {},
   "source": [
    "We can write a more readable and reuseable function to get the same result. (Of course it's not necessary because the function `swapcase()` exists already.)"
   ]
  },
  {
   "cell_type": "code",
   "execution_count": 11,
   "metadata": {},
   "outputs": [],
   "source": [
    "def change_case(inp_):\n",
    "    # create an empty variable\n",
    "    swapped = ''\n",
    "    # loop through string\n",
    "    for character in inp_:\n",
    "        # if is lower:\n",
    "        if character.islower():\n",
    "            # append swapped character\n",
    "            swapped += character.upper()\n",
    "        # otherwise it's upper:\n",
    "        else:\n",
    "            swapped += character.lower()\n",
    "    \n",
    "    # when the loop is finished we return the result\n",
    "    return swapped"
   ]
  },
  {
   "cell_type": "markdown",
   "metadata": {},
   "source": [
    "Now we have defined our own function `change_case`. Let's use it:"
   ]
  },
  {
   "cell_type": "code",
   "execution_count": 12,
   "metadata": {},
   "outputs": [
    {
     "name": "stdout",
     "output_type": "stream",
     "text": [
      "»tENDER bUTTONS«, FROM gERTRUDE sTEIN\n"
     ]
    }
   ],
   "source": [
    "print(change_case(txt))"
   ]
  }
 ],
 "metadata": {
  "kernelspec": {
   "display_name": "Python 3",
   "language": "python",
   "name": "python3"
  },
  "language_info": {
   "codemirror_mode": {
    "name": "ipython",
    "version": 3
   },
   "file_extension": ".py",
   "mimetype": "text/x-python",
   "name": "python",
   "nbconvert_exporter": "python",
   "pygments_lexer": "ipython3",
   "version": "3.7.5"
  }
 },
 "nbformat": 4,
 "nbformat_minor": 4
}
